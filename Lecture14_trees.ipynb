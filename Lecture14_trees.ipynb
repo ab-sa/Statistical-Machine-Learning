{
  "nbformat": 4,
  "nbformat_minor": 0,
  "metadata": {
    "colab": {
      "name": "Lecture14_trees.ipynb",
      "provenance": [],
      "authorship_tag": "ABX9TyOSR6XabUAYhIhs9NeM2x9V",
      "include_colab_link": true
    },
    "kernelspec": {
      "name": "python3",
      "display_name": "Python 3"
    },
    "language_info": {
      "name": "python"
    }
  },
  "cells": [
    {
      "cell_type": "markdown",
      "metadata": {
        "id": "view-in-github",
        "colab_type": "text"
      },
      "source": [
        "<a href=\"https://colab.research.google.com/github/ab-sa/Statistical-Machine-Learning/blob/main/Lecture14_trees.ipynb\" target=\"_parent\"><img src=\"https://colab.research.google.com/assets/colab-badge.svg\" alt=\"Open In Colab\"/></a>"
      ]
    },
    {
      "cell_type": "code",
      "execution_count": 26,
      "metadata": {
        "id": "yiyk_pV57KwZ"
      },
      "outputs": [],
      "source": [
        "import numpy as np\n",
        "import pandas as pd\n",
        "from sklearn.discriminant_analysis import LinearDiscriminantAnalysis, QuadraticDiscriminantAnalysis\n",
        "from sklearn.naive_bayes import GaussianNB\n",
        "from sklearn.decomposition import PCA\n",
        "from sklearn.preprocessing import StandardScaler\n",
        "from sklearn.model_selection import train_test_split, RepeatedKFold, cross_val_score, GridSearchCV\n",
        "import statsmodels.formula.api as smf\n",
        "import statsmodels.api as sm\n",
        "from sklearn.metrics import accuracy_score, confusion_matrix, classification_report, mean_squared_error\n",
        "import matplotlib.pyplot as plt\n",
        "import seaborn as sns\n",
        "from sklearn.tree import DecisionTreeClassifier, DecisionTreeRegressor\n",
        "from sklearn.ensemble import RandomForestRegressor, RandomForestClassifier, BaggingClassifier, BaggingRegressor"
      ]
    },
    {
      "cell_type": "code",
      "source": [
        "Credit = pd.read_csv('Credit.csv')\n",
        "Credit['Balance_multi'] = pd.cut(Credit.Balance, bins=[-1,300,700,2000],labels=[0,1,2])\n",
        "Credit = Credit.drop(['ID', 'Limit', 'Rating'], axis=1)\n",
        "print('Dimension of the data: ' + str(Credit.shape))\n",
        "print(Credit.head())\n",
        "print(Credit['Balance_multi'].value_counts(normalize=True))"
      ],
      "metadata": {
        "colab": {
          "base_uri": "https://localhost:8080/"
        },
        "id": "yJqoDQKF7L5-",
        "outputId": "6625afbf-a220-4a4d-e35a-ccac49ea1a9b"
      },
      "execution_count": 15,
      "outputs": [
        {
          "output_type": "stream",
          "name": "stdout",
          "text": [
            "Dimension of the data: (400, 10)\n",
            "    Income  Cards  Age  Education  ... Married  Ethnicity Balance Balance_multi\n",
            "0   14.891      2   34         11  ...     Yes  Caucasian     333             1\n",
            "1  106.025      3   82         15  ...     Yes      Asian     903             2\n",
            "2  104.593      4   71         11  ...      No      Asian     580             1\n",
            "3  148.924      3   36         11  ...      No      Asian     964             2\n",
            "4   55.882      2   68         16  ...     Yes  Caucasian     331             1\n",
            "\n",
            "[5 rows x 10 columns]\n",
            "0    0.4000\n",
            "2    0.3475\n",
            "1    0.2525\n",
            "Name: Balance_multi, dtype: float64\n"
          ]
        }
      ]
    },
    {
      "cell_type": "markdown",
      "source": [
        "**Data spliting**: for both classification and regression"
      ],
      "metadata": {
        "id": "BqdlAd-tRT0m"
      }
    },
    {
      "cell_type": "code",
      "source": [
        "X = pd.get_dummies(Credit.drop(['Balance_multi', 'Balance'], axis=1))\n",
        "y_mult = Credit['Balance_multi']\n",
        "y_cont = Credit['Balance']\n",
        "x_train, x_test, y_mult_train, y_mult_test = train_test_split(X, y_mult, test_size=0.2, random_state=0)\n",
        "x_train, x_test, y_cont_train, y_cont_test = train_test_split(X, y_cont, test_size=0.2, random_state=0)"
      ],
      "metadata": {
        "id": "M0yDCOVNRboJ"
      },
      "execution_count": 16,
      "outputs": []
    },
    {
      "cell_type": "markdown",
      "source": [
        "**Classification tree:**"
      ],
      "metadata": {
        "id": "AFWqQXYm7nvU"
      }
    },
    {
      "cell_type": "code",
      "source": [
        "clf_tree = DecisionTreeClassifier(criterion='entropy', max_depth=3, random_state=0)\n",
        "clf_tree.fit(x_train, y_mult_train)\n",
        "clf_tree_pred = clf_tree.predict(x_test)\n",
        "\n",
        "print('Model accuracy score with criterion entropy: {0:0.4f}'. format(accuracy_score(y_mult_test, clf_tree_pred)))\n",
        "print(classification_report(y_mult_test, clf_tree_pred))\n",
        "print(confusion_matrix(y_mult_test, clf_tree_pred))"
      ],
      "metadata": {
        "colab": {
          "base_uri": "https://localhost:8080/"
        },
        "id": "l4RoNd177qAK",
        "outputId": "add6d59d-b75c-4928-a7ac-812e2641a8bb"
      },
      "execution_count": 23,
      "outputs": [
        {
          "output_type": "stream",
          "name": "stdout",
          "text": [
            "Model accuracy score with criterion entropy: 0.5625\n",
            "              precision    recall  f1-score   support\n",
            "\n",
            "           0       0.54      0.86      0.67        29\n",
            "           1       1.00      0.04      0.08        23\n",
            "           2       0.58      0.68      0.62        28\n",
            "\n",
            "    accuracy                           0.56        80\n",
            "   macro avg       0.71      0.53      0.46        80\n",
            "weighted avg       0.69      0.56      0.48        80\n",
            "\n",
            "[[25  0  4]\n",
            " [12  1 10]\n",
            " [ 9  0 19]]\n"
          ]
        }
      ]
    },
    {
      "cell_type": "markdown",
      "source": [
        "**Regression tree:**"
      ],
      "metadata": {
        "id": "6VCV3v6hQtnO"
      }
    },
    {
      "cell_type": "code",
      "source": [
        "reg_tree = DecisionTreeRegressor(max_depth=3, random_state=0)\n",
        "reg_tree.fit(x_train, y_cont_train)\n",
        "reg_tree_pred = reg_tree.predict(x_test)\n",
        "\n",
        "print('MSPE: ', mean_squared_error(y_cont_test, reg_tree_pred))"
      ],
      "metadata": {
        "colab": {
          "base_uri": "https://localhost:8080/"
        },
        "id": "Cqv9lip1Qsvg",
        "outputId": "f19cc095-41c5-4dda-fd65-8dd2de6c60ce"
      },
      "execution_count": 30,
      "outputs": [
        {
          "output_type": "stream",
          "name": "stdout",
          "text": [
            "MSPE:  167864.712488959\n"
          ]
        }
      ]
    },
    {
      "cell_type": "markdown",
      "source": [
        "**Ensemble trees: Bagging** for classification"
      ],
      "metadata": {
        "id": "Q2_YRZk8PUUP"
      }
    },
    {
      "cell_type": "code",
      "source": [
        "# define the model\n",
        "clf_bagg = BaggingClassifier(n_estimators = 100, random_state = 0)\n",
        "# Train the model on training data\n",
        "clf_bagg.fit(x_train, y_mult_train)\n",
        "\n",
        "# Use the forest's predict method on the test data\n",
        "clf_bagg_preds = clf_bagg.predict(x_test)\n",
        "print('Model accuracy score: {0:0.4f}'. format(accuracy_score(y_mult_test, clf_bagg_preds)))"
      ],
      "metadata": {
        "colab": {
          "base_uri": "https://localhost:8080/"
        },
        "id": "GDayewqvPU1E",
        "outputId": "ef478677-5b65-4c5e-8d99-fefb7c19a395"
      },
      "execution_count": 27,
      "outputs": [
        {
          "output_type": "stream",
          "name": "stdout",
          "text": [
            "Model accuracy score: 0.4250\n"
          ]
        }
      ]
    },
    {
      "cell_type": "markdown",
      "source": [
        "**Ensemble trees: Bagging** for regression"
      ],
      "metadata": {
        "id": "8KzdmtnYS4NA"
      }
    },
    {
      "cell_type": "code",
      "source": [
        "# define the model\n",
        "reg_bagg = BaggingRegressor(n_estimators = 100, random_state = 0)\n",
        "# Train the model on training data\n",
        "reg_bagg.fit(x_train, y_cont_train)\n",
        "\n",
        "# Use the forest's predict method on the test data\n",
        "reg_bagg_preds = reg_bagg.predict(x_test)\n",
        "print('MSPE: ', mean_squared_error(y_cont_test, reg_bagg_preds))"
      ],
      "metadata": {
        "colab": {
          "base_uri": "https://localhost:8080/"
        },
        "id": "cwYL6izrS4fx",
        "outputId": "c5f4a2c0-1691-4bd7-b3e6-fc97525af78f"
      },
      "execution_count": 29,
      "outputs": [
        {
          "output_type": "stream",
          "name": "stdout",
          "text": [
            "MSPE:  166098.31333749997\n"
          ]
        }
      ]
    },
    {
      "cell_type": "markdown",
      "source": [
        "**Ensemble trees: Random Forest** for classification"
      ],
      "metadata": {
        "id": "JkWBGR3-97ET"
      }
    },
    {
      "cell_type": "code",
      "source": [
        "# Instantiate model with 1000 decision trees\n",
        "clf_rf = RandomForestClassifier(n_estimators = 1000, random_state = 0)\n",
        "# Train the model on training data\n",
        "clf_rf.fit(x_train, y_mult_train)\n",
        "\n",
        "# Use the forest's predict method on the test data\n",
        "clf_rf_preds = clf_rf.predict(x_test)\n",
        "print('Model accuracy score: {0:0.4f}'. format(accuracy_score(y_mult_test, clf_rf_preds)))"
      ],
      "metadata": {
        "colab": {
          "base_uri": "https://localhost:8080/"
        },
        "id": "DUUmBptn-INm",
        "outputId": "960bc590-beef-4cf7-bfea-73809e2c74bd"
      },
      "execution_count": 31,
      "outputs": [
        {
          "output_type": "stream",
          "name": "stdout",
          "text": [
            "Model accuracy score: 0.5625\n"
          ]
        }
      ]
    },
    {
      "cell_type": "markdown",
      "source": [
        "**Ensemble trees: Random Forest** for regreession"
      ],
      "metadata": {
        "id": "fwj4dZU3Tw2H"
      }
    },
    {
      "cell_type": "code",
      "source": [
        "# Instantiate model with 1000 decision trees\n",
        "reg_rf = RandomForestClassifier(n_estimators = 1000, random_state = 0)\n",
        "# Train the model on training data\n",
        "reg_rf.fit(x_train, y_cont_train)\n",
        "\n",
        "# Use the forest's predict method on the test data\n",
        "reg_rf_preds = reg_rf.predict(x_test)\n",
        "print('MSPE: ', mean_squared_error(y_cont_test, reg_rf_preds))"
      ],
      "metadata": {
        "colab": {
          "base_uri": "https://localhost:8080/"
        },
        "id": "Z7bCJVjMTzkS",
        "outputId": "cee1fd3b-499c-49b0-9ae4-e806ae293f44"
      },
      "execution_count": 32,
      "outputs": [
        {
          "output_type": "stream",
          "name": "stdout",
          "text": [
            "MSPE:  322242.525\n"
          ]
        }
      ]
    },
    {
      "cell_type": "markdown",
      "source": [
        "**Tune a RF classifier:**"
      ],
      "metadata": {
        "id": "QvMVqvbY_0Im"
      }
    },
    {
      "cell_type": "code",
      "source": [
        "Parameter_Trials = {'max_features':[1,2,3],  # equivalent to R \"mtry\" parameter\n",
        "                    'min_samples_leaf':[1,3,5,7,10]  # equivalent to R \"nodesize\" parameter\n",
        "                   }\n",
        "\n",
        "# Creating the RF model\n",
        "RF_mod = RandomForestClassifier()\n",
        "\n",
        "# Creating the Grid search space\n",
        "grid_search = GridSearchCV(estimator=RF_mod, param_grid=Parameter_Trials, cv=5)\n",
        "\n",
        "# Running Grid Search for different paramenters\n",
        "grid_search.fit(X, y)\n",
        "\n",
        "# printing the best parameters\n",
        "print('\\n#### Best hyperparamters ####')\n",
        "print(grid_search.best_params_)"
      ],
      "metadata": {
        "colab": {
          "base_uri": "https://localhost:8080/"
        },
        "id": "tLPDy-Xze_2T",
        "outputId": "78cf8204-fb88-4ca4-aa8b-282d5061e5a3"
      },
      "execution_count": 33,
      "outputs": [
        {
          "output_type": "stream",
          "name": "stdout",
          "text": [
            "\n",
            "#### Best hyperparamters ####\n",
            "{'max_features': 2, 'min_samples_leaf': 10}\n"
          ]
        }
      ]
    },
    {
      "cell_type": "code",
      "source": [
        "print('MSPE: ', grid_search.cv_results_['mean_test_score'])\n",
        "print('MSPE SE: ', grid_search.cv_results_['std_test_score'])\n",
        "\n",
        "params_list = [str(d['max_features']) + '-' + str(d['min_samples_leaf']) for d in grid_search.cv_results_['params']]\n",
        "fig, ax = plt.subplots()\n",
        "ax.errorbar(params_list, grid_search.cv_results_['mean_test_score'], yerr=grid_search.cv_results_['std_test_score'], fmt='.k')\n",
        "plt.xlabel(\"Diff params\")\n",
        "plt.ylabel(\"MSPE\")\n",
        "plt.show()"
      ],
      "metadata": {
        "colab": {
          "base_uri": "https://localhost:8080/",
          "height": 367
        },
        "id": "GAimqksEhl6n",
        "outputId": "c2019164-6cb5-4e9f-d6c0-a35ea4ab6de1"
      },
      "execution_count": 34,
      "outputs": [
        {
          "output_type": "stream",
          "name": "stdout",
          "text": [
            "MSPE:  [0.42   0.4625 0.495  0.505  0.5    0.4525 0.505  0.505  0.525  0.5325\n",
            " 0.445  0.49   0.5025 0.52   0.53  ]\n",
            "MSPE SE:  [0.03316625 0.05645795 0.03758324 0.03122499 0.05968668 0.02291288\n",
            " 0.03409545 0.03409545 0.03446012 0.03840573 0.02692582 0.02150581\n",
            " 0.03741657 0.03316625 0.04153312]\n"
          ]
        },
        {
          "output_type": "display_data",
          "data": {
            "image/png": "[encoded data removed]",
            "text/plain": [
              "<Figure size 432x288 with 1 Axes>"
            ]
          },
          "metadata": {
            "needs_background": "light"
          }
        }
      ]
    },
    {
      "cell_type": "markdown",
      "source": [
        ""
      ],
      "metadata": {
        "id": "bUVVHhvPPQIv"
      }
    }
  ]
}