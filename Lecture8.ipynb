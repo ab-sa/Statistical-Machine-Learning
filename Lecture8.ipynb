{
  "nbformat": 4,
  "nbformat_minor": 0,
  "metadata": {
    "colab": {
      "name": "Lecture8.ipynb",
      "provenance": [],
      "collapsed_sections": [],
      "authorship_tag": "ABX9TyOyK75KtwFq3Zhhft/PcLpD",
      "include_colab_link": true
    },
    "kernelspec": {
      "name": "python3",
      "display_name": "Python 3"
    },
    "language_info": {
      "name": "python"
    }
  },
  "cells": [
    {
      "cell_type": "markdown",
      "metadata": {
        "id": "view-in-github",
        "colab_type": "text"
      },
      "source": [
        "<a href=\"https://colab.research.google.com/github/ab-sa/Statistical-Machine-Learning/blob/main/Lecture8.ipynb\" target=\"_parent\"><img src=\"https://colab.research.google.com/assets/colab-badge.svg\" alt=\"Open In Colab\"/></a>"
      ]
    },
    {
      "cell_type": "markdown",
      "source": [
        "Libraries"
      ],
      "metadata": {
        "id": "BpLZLScpNBt1"
      }
    },
    {
      "cell_type": "code",
      "source": [
        "import numpy as np\n",
        "import pandas as pd\n",
        "from sklearn import linear_model\n",
        "from sklearn.linear_model import Ridge, RidgeCV, Lasso, LassoCV\n",
        "from sklearn.preprocessing import StandardScaler\n",
        "from sklearn.model_selection import train_test_split, RepeatedKFold\n",
        "#import statsmodels.formula.api as smf\n",
        "import statsmodels.api as sm\n",
        "from sklearn.metrics import mean_squared_error\n",
        "import matplotlib.pyplot as plt\n",
        "import seaborn as sns\n",
        "from sklearn.decomposition import PCA"
      ],
      "metadata": {
        "id": "6GqNhym6NCA0"
      },
      "execution_count": null,
      "outputs": []
    },
    {
      "cell_type": "markdown",
      "source": [
        "Import Credit data"
      ],
      "metadata": {
        "id": "dmg-4GdQNJ8I"
      }
    },
    {
      "cell_type": "code",
      "source": [
        "Credit = pd.read_csv('Credit.csv')\n",
        "print('Dimension of the data: ' + str(Credit.shape))\n",
        "Credit.head()"
      ],
      "metadata": {
        "id": "a1mojUW6NPDd"
      },
      "execution_count": null,
      "outputs": []
    },
    {
      "cell_type": "markdown",
      "source": [
        "PCR"
      ],
      "metadata": {
        "id": "FUx957zAcKCR"
      }
    },
    {
      "cell_type": "code",
      "source": [
        "y = Credit['Balance']\n",
        "X = Credit[['Limit', 'Rating', 'Cards', 'Age', 'Education']]\n",
        "\n",
        "X_train, X_test , y_train, y_test = train_test_split(X, y, test_size=0.3, random_state=1)\n",
        "\n",
        "std_scale = StandardScaler().fit(X_train)\n",
        "X_train_std = std_scale.transform(X_train)\n",
        "X_test_std  = std_scale.transform(X_test)\n",
        "\n",
        "pca = PCA()\n",
        "PCs_train = pca.fit_transform(X_train_std)\n",
        "PCs_test = pca.transform(X_test_std)\n",
        "\n",
        "LModel = linear_model.LinearRegression()\n",
        "MSPEs = []\n",
        "\n",
        "# Calculate MSPE with only the intercept\n",
        "LModel.fit(np.ones((len(PCs_train),1)), y_train)\n",
        "MSPEs.append(mean_squared_error(y_test, LModel.predict(np.ones((len(PCs_test),1)))))\n",
        "\n",
        "# Calculate MSPE: adding one component at a time\n",
        "for i in np.arange(1, 6):\n",
        "  LModel.fit(PCs_train[:,:i], y_train)\n",
        "  MSPEs.append(mean_squared_error(y_test, LModel.predict(PCs_test[:,:i])))\n",
        "\n",
        "print(MSPEs)\n",
        "\n",
        "# Plot MSPEs results    \n",
        "plt.plot(MSPEs)\n",
        "plt.xlabel('Number of Principal Components')\n",
        "plt.ylabel('MSPE')"
      ],
      "metadata": {
        "id": "eCGNEFojcND8"
      },
      "execution_count": null,
      "outputs": []
    },
    {
      "cell_type": "code",
      "source": [
        ""
      ],
      "metadata": {
        "id": "srHsEbuGd5p3"
      },
      "execution_count": null,
      "outputs": []
    },
    {
      "cell_type": "markdown",
      "source": [
        "Create dummy variavles and initialize 10-fold CV"
      ],
      "metadata": {
        "id": "RQbCRb6kNWD8"
      }
    },
    {
      "cell_type": "code",
      "source": [
        "from numpy.core.fromnumeric import shape\n",
        "Credit_dumms = pd.get_dummies(Credit)\n",
        "Credit_dumms['CV'] = np.random.randint(low=0, high=10, size=(Credit_dumms.shape[0],))\n",
        "Credit_dumms['CV'].value_counts()"
      ],
      "metadata": {
        "id": "oLzJbdbVOUcF"
      },
      "execution_count": null,
      "outputs": []
    },
    {
      "cell_type": "markdown",
      "source": [
        "Model comparison:"
      ],
      "metadata": {
        "id": "q0xfPzOoOpsg"
      }
    },
    {
      "cell_type": "code",
      "source": [
        "Ridge_MSPE = []\n",
        "LASSO_MSPE = []\n",
        "LASSO_NFeat = []\n",
        "PCR_MSPE = []\n",
        "PCR_NCopm = []\n",
        "\n",
        "for i in range(10):\n",
        "  Credit_dumms_train = Credit_dumms.loc[Credit_dumms['CV'] != i]\n",
        "  Credit_dumms_test = Credit_dumms.loc[Credit_dumms['CV'] == i]\n",
        "\n",
        "  y_train = Credit_dumms_train['Balance']\n",
        "  X_train = Credit_dumms_train.drop(['ID', 'Balance', 'CV'], axis=1)\n",
        "  y_test = Credit_dumms_test['Balance']\n",
        "  X_test = Credit_dumms_test.drop(['ID', 'Balance', 'CV'], axis=1)\n",
        "\n",
        "  std_scale = StandardScaler().fit(X_train)\n",
        "  X_train_std = std_scale.transform(X_train)\n",
        "  X_test_std  = std_scale.transform(X_test)\n",
        "\n",
        "  CV10 = RepeatedKFold(n_splits=10, n_repeats=3, random_state=1)\n",
        "\n",
        "  # Ridge\n",
        "  LMRidgeCV = RidgeCV(alphas=np.arange(0.5, 2, 0.01), cv=CV10, scoring='neg_mean_squared_error')\n",
        "  LMRidgeCV.fit(X_train_std, y_train)\n",
        "  LMRidge = Ridge(alpha = LMRidgeCV.alpha_)\n",
        "  LMRidge.fit(X_train_std, y_train)\n",
        "  Ridge_MSPE.append(mean_squared_error(y_test, LMRidge.predict(X_test_std)))\n",
        "\n",
        "  # LASSO\n",
        "  LMLassoCV = LassoCV(alphas = np.arange(0.5, 2, 0.01), cv = CV10, max_iter = 1000)\n",
        "  LMLassoCV.fit(X_train_std, y_train)\n",
        "  LMLasso = Lasso(max_iter = 10000)\n",
        "  LMLasso.set_params(alpha=LMLassoCV.alpha_)\n",
        "  LMLasso.fit(X_train_std, y_train)\n",
        "  LASSO_MSPE.append(mean_squared_error(y_test, LMLasso.predict(X_test_std)))\n",
        "  LASSO_NFeat.append(len(LMLasso.coef_) - sum(LMLasso.coef_ == 0))\n",
        "\n",
        "  # PCR\n",
        "  pca = PCA()\n",
        "  PCs_train = pca.fit_transform(X_train_std)\n",
        "  PCs_test = pca.transform(X_test_std)\n",
        "  LModel = linear_model.LinearRegression()\n",
        "  PCR_MSPE_train = []\n",
        "  for j in range(1, 16):\n",
        "    LModel.fit(PCs_train[:,:j], y_train)\n",
        "    PCR_MSPE_train.append(mean_squared_error(y_test, LModel.predict(PCs_test[:,:j])))\n",
        "\n",
        "  PCR_NCopm.append(np.argmin(PCR_MSPE_train))\n",
        "  LModel.fit(PCs_train[:,:PCR_NCopm[i]], y_train)\n",
        "  PCR_MSPE.append(mean_squared_error(y_test, LModel.predict(PCs_test[:,:PCR_NCopm[i]])))\n",
        "\n",
        "\n",
        "print(Ridge_MSPE)\n",
        "print(LASSO_MSPE)\n",
        "print(LASSO_NFeat)\n",
        "print(PCR_MSPE)\n",
        "print(PCR_NCopm)"
      ],
      "metadata": {
        "id": "ys7CI09ERsng"
      },
      "execution_count": null,
      "outputs": []
    }
  ]
}