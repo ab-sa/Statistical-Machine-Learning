{
  "nbformat": 4,
  "nbformat_minor": 0,
  "metadata": {
    "colab": {
      "name": "Lecture12_logisticRegression.ipynb",
      "provenance": [],
      "collapsed_sections": [],
      "authorship_tag": "ABX9TyOwEhQzoPmnhh9yKvHnjCYp",
      "include_colab_link": true
    },
    "kernelspec": {
      "name": "python3",
      "display_name": "Python 3"
    },
    "language_info": {
      "name": "python"
    }
  },
  "cells": [
    {
      "cell_type": "markdown",
      "metadata": {
        "id": "view-in-github",
        "colab_type": "text"
      },
      "source": [
        "<a href=\"https://colab.research.google.com/github/ab-sa/Statistical-Machine-Learning/blob/main/Lecture12_logisticRegression.ipynb\" target=\"_parent\"><img src=\"https://colab.research.google.com/assets/colab-badge.svg\" alt=\"Open In Colab\"/></a>"
      ]
    },
    {
      "cell_type": "code",
      "execution_count": 1,
      "metadata": {
        "id": "nAuma8U3FPM0",
        "colab": {
          "base_uri": "https://localhost:8080/"
        },
        "outputId": "3899f59f-a2f9-4a98-ffbd-82ef7b47ce94"
      },
      "outputs": [
        {
          "output_type": "stream",
          "name": "stderr",
          "text": [
            "/usr/local/lib/python3.7/dist-packages/statsmodels/tools/_testing.py:19: FutureWarning: pandas.util.testing is deprecated. Use the functions in the public API at pandas.testing instead.\n",
            "  import pandas.util.testing as tm\n"
          ]
        }
      ],
      "source": [
        "import numpy as np\n",
        "import pandas as pd\n",
        "from sklearn import linear_model\n",
        "from sklearn.linear_model import LinearRegression\n",
        "from sklearn.preprocessing import StandardScaler, MinMaxScaler\n",
        "from sklearn.model_selection import train_test_split, RepeatedKFold, cross_val_score\n",
        "import statsmodels.formula.api as smf\n",
        "import statsmodels.api as sm\n",
        "from sklearn.metrics import accuracy_score, confusion_matrix\n",
        "import matplotlib.pyplot as plt\n",
        "import seaborn as sns"
      ]
    },
    {
      "cell_type": "code",
      "source": [
        "Credit = pd.read_csv('Credit.csv')\n",
        "print('Dimension of the data: ' + str(Credit.shape))\n",
        "Credit.head()"
      ],
      "metadata": {
        "colab": {
          "base_uri": "https://localhost:8080/",
          "height": 224
        },
        "id": "Cbtga8TRFVPn",
        "outputId": "dd11d5a1-4f3d-4feb-a959-2941679b1b56"
      },
      "execution_count": 7,
      "outputs": [
        {
          "output_type": "stream",
          "name": "stdout",
          "text": [
            "Dimension of the data: (400, 12)\n"
          ]
        },
        {
          "output_type": "execute_result",
          "data": {
            "text/html": [
              "\n",
              "  <div id=\"df-777a0e05-6ccb-4b4e-a088-5dcd35c0ddd2\">\n",
              "    <div class=\"colab-df-container\">\n",
              "      <div>\n",
              "<style scoped>\n",
              "    .dataframe tbody tr th:only-of-type {\n",
              "        vertical-align: middle;\n",
              "    }\n",
              "\n",
              "    .dataframe tbody tr th {\n",
              "        vertical-align: top;\n",
              "    }\n",
              "\n",
              "    .dataframe thead th {\n",
              "        text-align: right;\n",
              "    }\n",
              "</style>\n",
              "<table border=\"1\" class=\"dataframe\">\n",
              "  <thead>\n",
              "    <tr style=\"text-align: right;\">\n",
              "      <th></th>\n",
              "      <th>ID</th>\n",
              "      <th>Income</th>\n",
              "      <th>Limit</th>\n",
              "      <th>Rating</th>\n",
              "      <th>Cards</th>\n",
              "      <th>Age</th>\n",
              "      <th>Education</th>\n",
              "      <th>Gender</th>\n",
              "      <th>Student</th>\n",
              "      <th>Married</th>\n",
              "      <th>Ethnicity</th>\n",
              "      <th>Balance</th>\n",
              "    </tr>\n",
              "  </thead>\n",
              "  <tbody>\n",
              "    <tr>\n",
              "      <th>0</th>\n",
              "      <td>1</td>\n",
              "      <td>14.891</td>\n",
              "      <td>3606</td>\n",
              "      <td>283</td>\n",
              "      <td>2</td>\n",
              "      <td>34</td>\n",
              "      <td>11</td>\n",
              "      <td>Male</td>\n",
              "      <td>No</td>\n",
              "      <td>Yes</td>\n",
              "      <td>Caucasian</td>\n",
              "      <td>333</td>\n",
              "    </tr>\n",
              "    <tr>\n",
              "      <th>1</th>\n",
              "      <td>2</td>\n",
              "      <td>106.025</td>\n",
              "      <td>6645</td>\n",
              "      <td>483</td>\n",
              "      <td>3</td>\n",
              "      <td>82</td>\n",
              "      <td>15</td>\n",
              "      <td>Female</td>\n",
              "      <td>Yes</td>\n",
              "      <td>Yes</td>\n",
              "      <td>Asian</td>\n",
              "      <td>903</td>\n",
              "    </tr>\n",
              "    <tr>\n",
              "      <th>2</th>\n",
              "      <td>3</td>\n",
              "      <td>104.593</td>\n",
              "      <td>7075</td>\n",
              "      <td>514</td>\n",
              "      <td>4</td>\n",
              "      <td>71</td>\n",
              "      <td>11</td>\n",
              "      <td>Male</td>\n",
              "      <td>No</td>\n",
              "      <td>No</td>\n",
              "      <td>Asian</td>\n",
              "      <td>580</td>\n",
              "    </tr>\n",
              "    <tr>\n",
              "      <th>3</th>\n",
              "      <td>4</td>\n",
              "      <td>148.924</td>\n",
              "      <td>9504</td>\n",
              "      <td>681</td>\n",
              "      <td>3</td>\n",
              "      <td>36</td>\n",
              "      <td>11</td>\n",
              "      <td>Female</td>\n",
              "      <td>No</td>\n",
              "      <td>No</td>\n",
              "      <td>Asian</td>\n",
              "      <td>964</td>\n",
              "    </tr>\n",
              "    <tr>\n",
              "      <th>4</th>\n",
              "      <td>5</td>\n",
              "      <td>55.882</td>\n",
              "      <td>4897</td>\n",
              "      <td>357</td>\n",
              "      <td>2</td>\n",
              "      <td>68</td>\n",
              "      <td>16</td>\n",
              "      <td>Male</td>\n",
              "      <td>No</td>\n",
              "      <td>Yes</td>\n",
              "      <td>Caucasian</td>\n",
              "      <td>331</td>\n",
              "    </tr>\n",
              "  </tbody>\n",
              "</table>\n",
              "</div>\n",
              "      <button class=\"colab-df-convert\" onclick=\"convertToInteractive('df-777a0e05-6ccb-4b4e-a088-5dcd35c0ddd2')\"\n",
              "              title=\"Convert this dataframe to an interactive table.\"\n",
              "              style=\"display:none;\">\n",
              "        \n",
              "  <svg xmlns=\"http://www.w3.org/2000/svg\" height=\"24px\"viewBox=\"0 0 24 24\"\n",
              "       width=\"24px\">\n",
              "    <path d=\"M0 0h24v24H0V0z\" fill=\"none\"/>\n",
              "    <path d=\"M18.56 5.44l.94 2.06.94-2.06 2.06-.94-2.06-.94-.94-2.06-.94 2.06-2.06.94zm-11 1L8.5 8.5l.94-2.06 2.06-.94-2.06-.94L8.5 2.5l-.94 2.06-2.06.94zm10 10l.94 2.06.94-2.06 2.06-.94-2.06-.94-.94-2.06-.94 2.06-2.06.94z\"/><path d=\"M17.41 7.96l-1.37-1.37c-.4-.4-.92-.59-1.43-.59-.52 0-1.04.2-1.43.59L10.3 9.45l-7.72 7.72c-.78.78-.78 2.05 0 2.83L4 21.41c.39.39.9.59 1.41.59.51 0 1.02-.2 1.41-.59l7.78-7.78 2.81-2.81c.8-.78.8-2.07 0-2.86zM5.41 20L4 18.59l7.72-7.72 1.47 1.35L5.41 20z\"/>\n",
              "  </svg>\n",
              "      </button>\n",
              "      \n",
              "  <style>\n",
              "    .colab-df-container {\n",
              "      display:flex;\n",
              "      flex-wrap:wrap;\n",
              "      gap: 12px;\n",
              "    }\n",
              "\n",
              "    .colab-df-convert {\n",
              "      background-color: #E8F0FE;\n",
              "      border: none;\n",
              "      border-radius: 50%;\n",
              "      cursor: pointer;\n",
              "      display: none;\n",
              "      fill: #1967D2;\n",
              "      height: 32px;\n",
              "      padding: 0 0 0 0;\n",
              "      width: 32px;\n",
              "    }\n",
              "\n",
              "    .colab-df-convert:hover {\n",
              "      background-color: #E2EBFA;\n",
              "      box-shadow: 0px 1px 2px rgba(60, 64, 67, 0.3), 0px 1px 3px 1px rgba(60, 64, 67, 0.15);\n",
              "      fill: #174EA6;\n",
              "    }\n",
              "\n",
              "    [theme=dark] .colab-df-convert {\n",
              "      background-color: #3B4455;\n",
              "      fill: #D2E3FC;\n",
              "    }\n",
              "\n",
              "    [theme=dark] .colab-df-convert:hover {\n",
              "      background-color: #434B5C;\n",
              "      box-shadow: 0px 1px 3px 1px rgba(0, 0, 0, 0.15);\n",
              "      filter: drop-shadow(0px 1px 2px rgba(0, 0, 0, 0.3));\n",
              "      fill: #FFFFFF;\n",
              "    }\n",
              "  </style>\n",
              "\n",
              "      <script>\n",
              "        const buttonEl =\n",
              "          document.querySelector('#df-777a0e05-6ccb-4b4e-a088-5dcd35c0ddd2 button.colab-df-convert');\n",
              "        buttonEl.style.display =\n",
              "          google.colab.kernel.accessAllowed ? 'block' : 'none';\n",
              "\n",
              "        async function convertToInteractive(key) {\n",
              "          const element = document.querySelector('#df-777a0e05-6ccb-4b4e-a088-5dcd35c0ddd2');\n",
              "          const dataTable =\n",
              "            await google.colab.kernel.invokeFunction('convertToInteractive',\n",
              "                                                     [key], {});\n",
              "          if (!dataTable) return;\n",
              "\n",
              "          const docLinkHtml = 'Like what you see? Visit the ' +\n",
              "            '<a target=\"_blank\" href=https://colab.research.google.com/notebooks/data_table.ipynb>data table notebook</a>'\n",
              "            + ' to learn more about interactive tables.';\n",
              "          element.innerHTML = '';\n",
              "          dataTable['output_type'] = 'display_data';\n",
              "          await google.colab.output.renderOutput(dataTable, element);\n",
              "          const docLink = document.createElement('div');\n",
              "          docLink.innerHTML = docLinkHtml;\n",
              "          element.appendChild(docLink);\n",
              "        }\n",
              "      </script>\n",
              "    </div>\n",
              "  </div>\n",
              "  "
            ],
            "text/plain": [
              "   ID   Income  Limit  Rating  ...  Student  Married  Ethnicity Balance\n",
              "0   1   14.891   3606     283  ...       No      Yes  Caucasian     333\n",
              "1   2  106.025   6645     483  ...      Yes      Yes      Asian     903\n",
              "2   3  104.593   7075     514  ...       No       No      Asian     580\n",
              "3   4  148.924   9504     681  ...       No       No      Asian     964\n",
              "4   5   55.882   4897     357  ...       No      Yes  Caucasian     331\n",
              "\n",
              "[5 rows x 12 columns]"
            ]
          },
          "metadata": {},
          "execution_count": 7
        }
      ]
    },
    {
      "cell_type": "code",
      "source": [
        "Credit.describe()\n",
        "Credit['Balance_bin'] = pd.cut(Credit.Balance, bins=[-1,600,2000], labels=[0,1])\n",
        "print(Credit['Balance_bin'].value_counts(normalize=True))\n",
        "Credit.head()"
      ],
      "metadata": {
        "colab": {
          "base_uri": "https://localhost:8080/",
          "height": 259
        },
        "id": "vHlD7qyiGjJR",
        "outputId": "2983c645-2f1b-40ee-e6df-5cd126ef7e8c"
      },
      "execution_count": 8,
      "outputs": [
        {
          "output_type": "stream",
          "name": "stdout",
          "text": [
            "0    0.59\n",
            "1    0.41\n",
            "Name: Balance_bin, dtype: float64\n"
          ]
        },
        {
          "output_type": "execute_result",
          "data": {
            "text/html": [
              "\n",
              "  <div id=\"df-f4dd16e1-9b35-4008-8c5d-467502e02e4d\">\n",
              "    <div class=\"colab-df-container\">\n",
              "      <div>\n",
              "<style scoped>\n",
              "    .dataframe tbody tr th:only-of-type {\n",
              "        vertical-align: middle;\n",
              "    }\n",
              "\n",
              "    .dataframe tbody tr th {\n",
              "        vertical-align: top;\n",
              "    }\n",
              "\n",
              "    .dataframe thead th {\n",
              "        text-align: right;\n",
              "    }\n",
              "</style>\n",
              "<table border=\"1\" class=\"dataframe\">\n",
              "  <thead>\n",
              "    <tr style=\"text-align: right;\">\n",
              "      <th></th>\n",
              "      <th>ID</th>\n",
              "      <th>Income</th>\n",
              "      <th>Limit</th>\n",
              "      <th>Rating</th>\n",
              "      <th>Cards</th>\n",
              "      <th>Age</th>\n",
              "      <th>Education</th>\n",
              "      <th>Gender</th>\n",
              "      <th>Student</th>\n",
              "      <th>Married</th>\n",
              "      <th>Ethnicity</th>\n",
              "      <th>Balance</th>\n",
              "      <th>Balance_bin</th>\n",
              "    </tr>\n",
              "  </thead>\n",
              "  <tbody>\n",
              "    <tr>\n",
              "      <th>0</th>\n",
              "      <td>1</td>\n",
              "      <td>14.891</td>\n",
              "      <td>3606</td>\n",
              "      <td>283</td>\n",
              "      <td>2</td>\n",
              "      <td>34</td>\n",
              "      <td>11</td>\n",
              "      <td>Male</td>\n",
              "      <td>No</td>\n",
              "      <td>Yes</td>\n",
              "      <td>Caucasian</td>\n",
              "      <td>333</td>\n",
              "      <td>0</td>\n",
              "    </tr>\n",
              "    <tr>\n",
              "      <th>1</th>\n",
              "      <td>2</td>\n",
              "      <td>106.025</td>\n",
              "      <td>6645</td>\n",
              "      <td>483</td>\n",
              "      <td>3</td>\n",
              "      <td>82</td>\n",
              "      <td>15</td>\n",
              "      <td>Female</td>\n",
              "      <td>Yes</td>\n",
              "      <td>Yes</td>\n",
              "      <td>Asian</td>\n",
              "      <td>903</td>\n",
              "      <td>1</td>\n",
              "    </tr>\n",
              "    <tr>\n",
              "      <th>2</th>\n",
              "      <td>3</td>\n",
              "      <td>104.593</td>\n",
              "      <td>7075</td>\n",
              "      <td>514</td>\n",
              "      <td>4</td>\n",
              "      <td>71</td>\n",
              "      <td>11</td>\n",
              "      <td>Male</td>\n",
              "      <td>No</td>\n",
              "      <td>No</td>\n",
              "      <td>Asian</td>\n",
              "      <td>580</td>\n",
              "      <td>0</td>\n",
              "    </tr>\n",
              "    <tr>\n",
              "      <th>3</th>\n",
              "      <td>4</td>\n",
              "      <td>148.924</td>\n",
              "      <td>9504</td>\n",
              "      <td>681</td>\n",
              "      <td>3</td>\n",
              "      <td>36</td>\n",
              "      <td>11</td>\n",
              "      <td>Female</td>\n",
              "      <td>No</td>\n",
              "      <td>No</td>\n",
              "      <td>Asian</td>\n",
              "      <td>964</td>\n",
              "      <td>1</td>\n",
              "    </tr>\n",
              "    <tr>\n",
              "      <th>4</th>\n",
              "      <td>5</td>\n",
              "      <td>55.882</td>\n",
              "      <td>4897</td>\n",
              "      <td>357</td>\n",
              "      <td>2</td>\n",
              "      <td>68</td>\n",
              "      <td>16</td>\n",
              "      <td>Male</td>\n",
              "      <td>No</td>\n",
              "      <td>Yes</td>\n",
              "      <td>Caucasian</td>\n",
              "      <td>331</td>\n",
              "      <td>0</td>\n",
              "    </tr>\n",
              "  </tbody>\n",
              "</table>\n",
              "</div>\n",
              "      <button class=\"colab-df-convert\" onclick=\"convertToInteractive('df-f4dd16e1-9b35-4008-8c5d-467502e02e4d')\"\n",
              "              title=\"Convert this dataframe to an interactive table.\"\n",
              "              style=\"display:none;\">\n",
              "        \n",
              "  <svg xmlns=\"http://www.w3.org/2000/svg\" height=\"24px\"viewBox=\"0 0 24 24\"\n",
              "       width=\"24px\">\n",
              "    <path d=\"M0 0h24v24H0V0z\" fill=\"none\"/>\n",
              "    <path d=\"M18.56 5.44l.94 2.06.94-2.06 2.06-.94-2.06-.94-.94-2.06-.94 2.06-2.06.94zm-11 1L8.5 8.5l.94-2.06 2.06-.94-2.06-.94L8.5 2.5l-.94 2.06-2.06.94zm10 10l.94 2.06.94-2.06 2.06-.94-2.06-.94-.94-2.06-.94 2.06-2.06.94z\"/><path d=\"M17.41 7.96l-1.37-1.37c-.4-.4-.92-.59-1.43-.59-.52 0-1.04.2-1.43.59L10.3 9.45l-7.72 7.72c-.78.78-.78 2.05 0 2.83L4 21.41c.39.39.9.59 1.41.59.51 0 1.02-.2 1.41-.59l7.78-7.78 2.81-2.81c.8-.78.8-2.07 0-2.86zM5.41 20L4 18.59l7.72-7.72 1.47 1.35L5.41 20z\"/>\n",
              "  </svg>\n",
              "      </button>\n",
              "      \n",
              "  <style>\n",
              "    .colab-df-container {\n",
              "      display:flex;\n",
              "      flex-wrap:wrap;\n",
              "      gap: 12px;\n",
              "    }\n",
              "\n",
              "    .colab-df-convert {\n",
              "      background-color: #E8F0FE;\n",
              "      border: none;\n",
              "      border-radius: 50%;\n",
              "      cursor: pointer;\n",
              "      display: none;\n",
              "      fill: #1967D2;\n",
              "      height: 32px;\n",
              "      padding: 0 0 0 0;\n",
              "      width: 32px;\n",
              "    }\n",
              "\n",
              "    .colab-df-convert:hover {\n",
              "      background-color: #E2EBFA;\n",
              "      box-shadow: 0px 1px 2px rgba(60, 64, 67, 0.3), 0px 1px 3px 1px rgba(60, 64, 67, 0.15);\n",
              "      fill: #174EA6;\n",
              "    }\n",
              "\n",
              "    [theme=dark] .colab-df-convert {\n",
              "      background-color: #3B4455;\n",
              "      fill: #D2E3FC;\n",
              "    }\n",
              "\n",
              "    [theme=dark] .colab-df-convert:hover {\n",
              "      background-color: #434B5C;\n",
              "      box-shadow: 0px 1px 3px 1px rgba(0, 0, 0, 0.15);\n",
              "      filter: drop-shadow(0px 1px 2px rgba(0, 0, 0, 0.3));\n",
              "      fill: #FFFFFF;\n",
              "    }\n",
              "  </style>\n",
              "\n",
              "      <script>\n",
              "        const buttonEl =\n",
              "          document.querySelector('#df-f4dd16e1-9b35-4008-8c5d-467502e02e4d button.colab-df-convert');\n",
              "        buttonEl.style.display =\n",
              "          google.colab.kernel.accessAllowed ? 'block' : 'none';\n",
              "\n",
              "        async function convertToInteractive(key) {\n",
              "          const element = document.querySelector('#df-f4dd16e1-9b35-4008-8c5d-467502e02e4d');\n",
              "          const dataTable =\n",
              "            await google.colab.kernel.invokeFunction('convertToInteractive',\n",
              "                                                     [key], {});\n",
              "          if (!dataTable) return;\n",
              "\n",
              "          const docLinkHtml = 'Like what you see? Visit the ' +\n",
              "            '<a target=\"_blank\" href=https://colab.research.google.com/notebooks/data_table.ipynb>data table notebook</a>'\n",
              "            + ' to learn more about interactive tables.';\n",
              "          element.innerHTML = '';\n",
              "          dataTable['output_type'] = 'display_data';\n",
              "          await google.colab.output.renderOutput(dataTable, element);\n",
              "          const docLink = document.createElement('div');\n",
              "          docLink.innerHTML = docLinkHtml;\n",
              "          element.appendChild(docLink);\n",
              "        }\n",
              "      </script>\n",
              "    </div>\n",
              "  </div>\n",
              "  "
            ],
            "text/plain": [
              "   ID   Income  Limit  Rating  ...  Married  Ethnicity  Balance Balance_bin\n",
              "0   1   14.891   3606     283  ...      Yes  Caucasian      333           0\n",
              "1   2  106.025   6645     483  ...      Yes      Asian      903           1\n",
              "2   3  104.593   7075     514  ...       No      Asian      580           0\n",
              "3   4  148.924   9504     681  ...       No      Asian      964           1\n",
              "4   5   55.882   4897     357  ...      Yes  Caucasian      331           0\n",
              "\n",
              "[5 rows x 13 columns]"
            ]
          },
          "metadata": {},
          "execution_count": 8
        }
      ]
    },
    {
      "cell_type": "markdown",
      "source": [
        "**Classification**: Fit a logistic regression model with no regularizations on Balance_bin as response:"
      ],
      "metadata": {
        "id": "rBDQozy9Hnw1"
      }
    },
    {
      "cell_type": "code",
      "source": [
        "# data: dropping the credit-card related features (Limit & Rating) to make the classification problem more challenging\n",
        "X = pd.get_dummies(Credit.drop(['ID', 'Balance', 'Balance_bin', 'Limit', 'Rating'], axis=1))\n",
        "y = Credit['Balance_bin']\n",
        "\n",
        "# prepare the cross-validation procedure\n",
        "cv = RepeatedKFold(n_splits=10, n_repeats=3, random_state=1)\n",
        "# create model\n",
        "model = linear_model.LogisticRegression(penalty='none')\n",
        "# evaluate model\n",
        "scores = cross_val_score(model, X, y, scoring='accuracy', cv=cv, n_jobs=-1)\n",
        "\n",
        "# report performance\n",
        "print('Accuracy: %.3f (%.3f)' % (np.mean(scores), np.std(scores)))"
      ],
      "metadata": {
        "colab": {
          "base_uri": "https://localhost:8080/"
        },
        "id": "D1vOD7cQHdNw",
        "outputId": "8b4108b6-e794-4ec8-e324-7cf7dbfe623c"
      },
      "execution_count": 9,
      "outputs": [
        {
          "output_type": "stream",
          "name": "stdout",
          "text": [
            "Accuracy: 0.664 (0.079)\n"
          ]
        }
      ]
    },
    {
      "cell_type": "markdown",
      "source": [
        "LR test from ANOVA for each predictor:"
      ],
      "metadata": {
        "id": "Te2fMRY0DBJO"
      }
    },
    {
      "cell_type": "code",
      "source": [
        "from scipy import stats\n",
        "\n",
        "def calculate_nested_f_statistic(small_model, big_model):\n",
        "    \"\"\"Given two fitted GLMs, the larger of which contains the parameter space of the smaller, return the F Stat and P value corresponding to the larger model adding explanatory power\"\"\"\n",
        "    addtl_params = big_model.df_model - small_model.df_model\n",
        "    f_stat = (small_model.deviance - big_model.deviance) / (addtl_params * big_model.scale)\n",
        "    df_numerator = addtl_params\n",
        "    # use fitted values to obtain n_obs from model object:\n",
        "    df_denom = (big_model.fittedvalues.shape[0] - big_model.df_model)\n",
        "    p_value = stats.f.sf(f_stat, df_numerator, df_denom)\n",
        "    return ('F stat ', f_stat, ' P-Val: ', p_value)\n",
        "\n",
        "from statsmodels.genmod.generalized_linear_model import GLM\n",
        "from statsmodels.genmod import families\n",
        "\n",
        "X_norm = pd.DataFrame(MinMaxScaler().fit_transform(X), columns = X.columns)\n",
        "model_full = GLM(y, X_norm[[\"Age\", \"Education\", \"Income\"]], family=families.Binomial(),).fit()\n",
        "model_red = GLM(y, X_norm[[\"Age\", \"Education\"]], family=families.Binomial(),).fit()\n",
        "calculate_nested_f_statistic(model_red, model_full)"
      ],
      "metadata": {
        "colab": {
          "base_uri": "https://localhost:8080/"
        },
        "id": "obHmLVt85IoS",
        "outputId": "47aad09b-4c44-4765-d311-f1ece437c5ff"
      },
      "execution_count": 17,
      "outputs": [
        {
          "output_type": "execute_result",
          "data": {
            "text/plain": [
              "('F stat ', 38.940506674167636, ' P-Val: ', 1.1193369874683984e-09)"
            ]
          },
          "metadata": {},
          "execution_count": 17
        }
      ]
    },
    {
      "cell_type": "markdown",
      "source": [
        "Logistic regression model with LASSO regularization:"
      ],
      "metadata": {
        "id": "gq9x-a4nQvmE"
      }
    },
    {
      "cell_type": "code",
      "source": [
        "modelCV = linear_model.LogisticRegressionCV(penalty='l1', solver='liblinear', cv=5, random_state=0, max_iter=1000).fit(X, y)\n",
        "print('Best regularization parameter (inverse of lambda): ', modelCV.C_)\n",
        "print('Model accuracy: ', modelCV.score(X, y))\n",
        "y_pred = modelCV.predict(X)\n",
        "print('Confusion matrix with counts: ')\n",
        "print(confusion_matrix(y, y_pred))\n",
        "print('Confusion matrix with proportions: ')\n",
        "print(confusion_matrix(y, y_pred, normalize='true'))"
      ],
      "metadata": {
        "colab": {
          "base_uri": "https://localhost:8080/"
        },
        "id": "TOGJ3Wg1YT5c",
        "outputId": "ff2223a3-973e-4a37-890e-1c3e02dc9246"
      },
      "execution_count": 18,
      "outputs": [
        {
          "output_type": "stream",
          "name": "stdout",
          "text": [
            "Best regularization parameter (inverse of lambda):  [0.35938137]\n",
            "Model accuracy:  0.6875\n",
            "Confusion matrix with counts: \n",
            "[[205  31]\n",
            " [ 94  70]]\n",
            "Confusion matrix with proportions: \n",
            "[[0.86864407 0.13135593]\n",
            " [0.57317073 0.42682927]]\n"
          ]
        }
      ]
    },
    {
      "cell_type": "markdown",
      "source": [
        "**Multi-class**: Create a three-class version of balance"
      ],
      "metadata": {
        "id": "ib7ikDx3RScf"
      }
    },
    {
      "cell_type": "code",
      "source": [
        "y_multi = pd.cut(Credit.Balance, bins=[-1,300,700,2000], labels=['0','1','2'])\n",
        "print(y_multi.value_counts(normalize=True))"
      ],
      "metadata": {
        "colab": {
          "base_uri": "https://localhost:8080/"
        },
        "id": "IkbWfo5wRS-I",
        "outputId": "2b0159f2-d0ea-45ac-bd2f-782b070faba4"
      },
      "execution_count": 19,
      "outputs": [
        {
          "output_type": "stream",
          "name": "stdout",
          "text": [
            "0    0.4000\n",
            "2    0.3475\n",
            "1    0.2525\n",
            "Name: Balance, dtype: float64\n"
          ]
        }
      ]
    },
    {
      "cell_type": "markdown",
      "source": [
        "**Multinomial** regression model: no regularization."
      ],
      "metadata": {
        "id": "d5JRfAgrR-h1"
      }
    },
    {
      "cell_type": "code",
      "source": [
        "# create model\n",
        "model = linear_model.LogisticRegression(penalty='none')\n",
        "# evaluate model\n",
        "scores = cross_val_score(model, X, y_multi, scoring='accuracy', cv=cv, n_jobs=-1)\n",
        "\n",
        "# report performance\n",
        "print('Accuracy: %.3f (%.3f)' % (np.mean(scores), np.std(scores)))"
      ],
      "metadata": {
        "colab": {
          "base_uri": "https://localhost:8080/"
        },
        "id": "S4ysQPA6SAmq",
        "outputId": "7d85a7b6-f480-468d-b780-4223aafa9990"
      },
      "execution_count": 20,
      "outputs": [
        {
          "output_type": "stream",
          "name": "stdout",
          "text": [
            "Accuracy: 0.513 (0.076)\n"
          ]
        }
      ]
    },
    {
      "cell_type": "markdown",
      "source": [
        "Multinomial regression model with LASSO regularization."
      ],
      "metadata": {
        "id": "j6hVzO4xS4cd"
      }
    },
    {
      "cell_type": "code",
      "source": [
        "MultiModelCV = linear_model.LogisticRegressionCV(penalty='l1', solver='liblinear', cv=5, random_state=0, max_iter=1000).fit(X, y_multi)\n",
        "print('Best regularization parameter: ', MultiModelCV.C_)\n",
        "print('Model accuracy: ', MultiModelCV.score(X, y_multi))\n",
        "y_pred = MultiModelCV.predict(X)\n",
        "print('Confusion matrix with counts: ')\n",
        "print(confusion_matrix(y_multi, y_pred))\n",
        "print('Confusion matrix with proportions: ')\n",
        "print(confusion_matrix(y_multi, y_pred, normalize='true'))"
      ],
      "metadata": {
        "colab": {
          "base_uri": "https://localhost:8080/"
        },
        "id": "wk-HFRTMSqhZ",
        "outputId": "d5f9bd62-cd01-4491-d48c-8817ab26325f"
      },
      "execution_count": 21,
      "outputs": [
        {
          "output_type": "stream",
          "name": "stdout",
          "text": [
            "Best regularization parameter:  [5.99484250e-03 1.00000000e-04 3.59381366e-01]\n",
            "Model accuracy:  0.4175\n",
            "Confusion matrix with counts: \n",
            "[[ 41 106  13]\n",
            " [ 17  71  13]\n",
            " [ 16  68  55]]\n",
            "Confusion matrix with proportions: \n",
            "[[0.25625    0.6625     0.08125   ]\n",
            " [0.16831683 0.7029703  0.12871287]\n",
            " [0.11510791 0.48920863 0.39568345]]\n"
          ]
        }
      ]
    }
  ]
}