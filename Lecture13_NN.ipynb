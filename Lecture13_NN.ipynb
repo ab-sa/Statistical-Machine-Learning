{
  "cells": [
    {
      "cell_type": "markdown",
      "metadata": {
        "id": "view-in-github",
        "colab_type": "text"
      },
      "source": [
        "<a href=\"https://colab.research.google.com/github/ab-sa/Statistical-Machine-Learning/blob/main/Lecture13_NN.ipynb\" target=\"_parent\"><img src=\"https://colab.research.google.com/assets/colab-badge.svg\" alt=\"Open In Colab\"/></a>"
      ]
    },
    {
      "cell_type": "code",
      "execution_count": 33,
      "metadata": {
        "id": "fsvLxzhsubR4"
      },
      "outputs": [],
      "source": [
        "import numpy as np\n",
        "import pandas as pd\n",
        "from sklearn.discriminant_analysis import LinearDiscriminantAnalysis, QuadraticDiscriminantAnalysis\n",
        "from sklearn.naive_bayes import GaussianNB\n",
        "from sklearn.decomposition import PCA\n",
        "from sklearn.preprocessing import StandardScaler\n",
        "from sklearn.model_selection import train_test_split, RepeatedKFold, cross_val_score, GridSearchCV\n",
        "import statsmodels.formula.api as smf\n",
        "import statsmodels.api as sm\n",
        "from sklearn.metrics import accuracy_score, confusion_matrix, classification_report\n",
        "import matplotlib.pyplot as plt\n",
        "import seaborn as sns\n",
        "from sklearn.neighbors import KernelDensity\n",
        "from sklearn.preprocessing import LabelEncoder\n",
        "from sklearn.base import BaseEstimator, ClassifierMixin\n",
        "from keras.models import Sequential\n",
        "from keras.layers import Dense\n",
        "from keras.utils import np_utils\n",
        "from keras.wrappers.scikit_learn import KerasClassifier, KerasRegressor\n",
        "from tensorflow.keras.optimizers import SGD"
      ]
    },
    {
      "cell_type": "code",
      "execution_count": 2,
      "metadata": {
        "colab": {
          "base_uri": "https://localhost:8080/"
        },
        "id": "ivuMO5fPu1RO",
        "outputId": "15bd555d-7c01-45b1-d54c-7664e4ad7df3"
      },
      "outputs": [
        {
          "output_type": "stream",
          "name": "stdout",
          "text": [
            "Dimension of the data: (400, 9)\n",
            "    Income  Cards  Age  Education  ... Student Married  Ethnicity Balance_multi\n",
            "0   14.891      2   34         11  ...      No     Yes  Caucasian             1\n",
            "1  106.025      3   82         15  ...     Yes     Yes      Asian             2\n",
            "2  104.593      4   71         11  ...      No      No      Asian             1\n",
            "3  148.924      3   36         11  ...      No      No      Asian             2\n",
            "4   55.882      2   68         16  ...      No     Yes  Caucasian             1\n",
            "\n",
            "[5 rows x 9 columns]\n",
            "0    0.4000\n",
            "2    0.3475\n",
            "1    0.2525\n",
            "Name: Balance_multi, dtype: float64\n"
          ]
        }
      ],
      "source": [
        "Credit = pd.read_csv('Credit.csv')\n",
        "Credit['Balance_multi'] = pd.cut(Credit.Balance, bins=[-1,300,700,2000],labels=[0,1,2])\n",
        "Credit = Credit.drop(['ID', 'Balance', 'Limit', 'Rating'], axis=1)\n",
        "print('Dimension of the data: ' + str(Credit.shape))\n",
        "print(Credit.head())\n",
        "print(Credit['Balance_multi'].value_counts(normalize=True))"
      ]
    },
    {
      "cell_type": "markdown",
      "metadata": {
        "id": "5faj5Av7u8kM"
      },
      "source": [
        "**Artificial Neural Nets (ANN)**: Fit a classification NN with Balance_multi as response:\n",
        "- There are many different libraries with many different ways to a fit a NN in python. I use ***keras*** here, but feel free to look around for other options as well.\n",
        "- Let's start with fiting a simple ANN model with only two layers:\n",
        "  - layer 1: 10 hidden nodes\n",
        "  - layer 2: 6 hidden nodes"
      ]
    },
    {
      "cell_type": "code",
      "execution_count": 10,
      "metadata": {
        "colab": {
          "base_uri": "https://localhost:8080/"
        },
        "id": "idqZRSFou9iI",
        "outputId": "a8fb22ca-9f16-482a-e33f-e04a54eab1ff"
      },
      "outputs": [
        {
          "output_type": "stream",
          "name": "stdout",
          "text": [
            "Epoch 1/10\n",
            "32/32 [==============================] - 0s 1ms/step - loss: 1.2281 - accuracy: 0.2906\n",
            "Epoch 2/10\n",
            "32/32 [==============================] - 0s 1ms/step - loss: 1.1801 - accuracy: 0.3000\n",
            "Epoch 3/10\n",
            "32/32 [==============================] - 0s 1ms/step - loss: 1.1467 - accuracy: 0.3250\n",
            "Epoch 4/10\n",
            "32/32 [==============================] - 0s 1ms/step - loss: 1.1256 - accuracy: 0.3406\n",
            "Epoch 5/10\n",
            "32/32 [==============================] - 0s 1ms/step - loss: 1.1109 - accuracy: 0.3531\n",
            "Epoch 6/10\n",
            "32/32 [==============================] - 0s 1ms/step - loss: 1.1005 - accuracy: 0.3656\n",
            "Epoch 7/10\n",
            "32/32 [==============================] - 0s 1ms/step - loss: 1.0932 - accuracy: 0.3656\n",
            "Epoch 8/10\n",
            "32/32 [==============================] - 0s 1ms/step - loss: 1.0871 - accuracy: 0.3906\n",
            "Epoch 9/10\n",
            "32/32 [==============================] - 0s 1ms/step - loss: 1.0819 - accuracy: 0.3969\n",
            "Epoch 10/10\n",
            "32/32 [==============================] - 0s 1ms/step - loss: 1.0765 - accuracy: 0.4031\n"
          ]
        }
      ],
      "source": [
        "# data: dropping the credit-card related features (Limit & Rating) to make the classification problem more challenging\n",
        "X = pd.get_dummies(Credit.drop(['Balance_multi'], axis=1))\n",
        "y = Credit['Balance_multi']\n",
        "x_train, x_test, y_train, y_test = train_test_split(X, y, test_size=0.2, random_state=0)\n",
        "# standardizing the input\n",
        "std_scale = StandardScaler().fit(x_train)\n",
        "X_train_std = std_scale.transform(x_train)\n",
        "X_test_std = std_scale.transform(x_test)\n",
        "\n",
        "# encode class values as integers\n",
        "encoder = LabelEncoder()\n",
        "encoder.fit(y_train)\n",
        "encoded_y_train = encoder.transform(y_train)\n",
        "# convert integers to dummy variables (i.e. one hot encoded)\n",
        "dummy_y_train = np_utils.to_categorical(encoded_y_train)\n",
        "\n",
        "# building the ANN model\n",
        "ANN_classifier = Sequential()\n",
        "# Defining the Input layer and FIRST hidden layer,both are same!\n",
        "# relu means Rectifier linear unit function\n",
        "# input_dim: number of features in your training data\n",
        "ANN_classifier.add(Dense(units=10, input_dim=13, activation='relu'))\n",
        "\n",
        "# Defining the SECOND hidden layer, here we have not defined input because it is\n",
        "# second layer and it will get input as the output of first hidden layer\n",
        "ANN_classifier.add(Dense(units=6, activation='relu'))\n",
        "\n",
        "# Defining the Output layer\n",
        "# for a classification problem, the output layer is defined as:\n",
        "# for a binary outcome: activation = 'softmax'\n",
        "# for a Multiclass (more than two classes) outcome: activation ='softmax'\n",
        "# And output_dim will be equal to the number of factor levels (here, it will be 3)\n",
        "ANN_classifier.add(Dense(units=3, activation='softmax'))\n",
        "\n",
        "# Optimizer: the algorithm of SGD to keep updating weights\n",
        "# loss: the loss function to measure the accuracy\n",
        "# metrics: the way we will compare the accuracy after each step of SGD\n",
        "ANN_classifier.compile(optimizer='adam', loss='categorical_crossentropy', metrics=['accuracy'])\n",
        "\n",
        "# fitting the Neural Network on the training data\n",
        "ANN_Model_1 = ANN_classifier.fit(X_train_std, dummy_y_train, batch_size=10 , epochs=10, verbose=1)"
      ]
    },
    {
      "cell_type": "markdown",
      "metadata": {
        "id": "S7edyziqq6-0"
      },
      "source": [
        "Measure the accuracy of our simple ANN model:"
      ]
    },
    {
      "cell_type": "code",
      "execution_count": 16,
      "metadata": {
        "id": "WbKxT_exrF16",
        "colab": {
          "base_uri": "https://localhost:8080/"
        },
        "outputId": "a81246f4-ba5e-4591-fc51-41de8556dd73"
      },
      "outputs": [
        {
          "output_type": "stream",
          "name": "stdout",
          "text": [
            "              precision    recall  f1-score   support\n",
            "\n",
            "           0       0.40      0.83      0.54        29\n",
            "           1       0.00      0.00      0.00        23\n",
            "           2       0.60      0.43      0.50        28\n",
            "\n",
            "    accuracy                           0.45        80\n",
            "   macro avg       0.33      0.42      0.35        80\n",
            "weighted avg       0.36      0.45      0.37        80\n",
            "\n",
            "[[24  0  5]\n",
            " [20  0  3]\n",
            " [16  0 12]]\n"
          ]
        },
        {
          "output_type": "stream",
          "name": "stderr",
          "text": [
            "/usr/local/lib/python3.7/dist-packages/sklearn/metrics/_classification.py:1318: UndefinedMetricWarning: Precision and F-score are ill-defined and being set to 0.0 in labels with no predicted samples. Use `zero_division` parameter to control this behavior.\n",
            "  _warn_prf(average, modifier, msg_start, len(result))\n",
            "/usr/local/lib/python3.7/dist-packages/sklearn/metrics/_classification.py:1318: UndefinedMetricWarning: Precision and F-score are ill-defined and being set to 0.0 in labels with no predicted samples. Use `zero_division` parameter to control this behavior.\n",
            "  _warn_prf(average, modifier, msg_start, len(result))\n",
            "/usr/local/lib/python3.7/dist-packages/sklearn/metrics/_classification.py:1318: UndefinedMetricWarning: Precision and F-score are ill-defined and being set to 0.0 in labels with no predicted samples. Use `zero_division` parameter to control this behavior.\n",
            "  _warn_prf(average, modifier, msg_start, len(result))\n"
          ]
        }
      ],
      "source": [
        "# Predictions (scores) on testing data\n",
        "ANN_preds = ANN_classifier.predict(X_test_std)\n",
        "# Predictions (labels) on testing data\n",
        "ANN_preds_class = ANN_preds.argmax(axis=-1)\n",
        "\n",
        "print(classification_report(y_test, ANN_preds_class))\n",
        "print(confusion_matrix(y_test, ANN_preds_class))"
      ]
    },
    {
      "cell_type": "markdown",
      "source": [
        "Tuning an ANN model by using GridSearchCV"
      ],
      "metadata": {
        "id": "BPC8oKh5AA74"
      }
    },
    {
      "cell_type": "code",
      "source": [
        "# Function to generate Deep ANN model \n",
        "def make_classification_ann(Optimizer_Trial, Neurons_Trial_1, Neurons_Trial_2):\n",
        "    \n",
        "    # Creating the classifier ANN model\n",
        "    classifier = Sequential()\n",
        "    classifier.add(Dense(units=Neurons_Trial_1, input_dim=13, activation='relu'))\n",
        "    classifier.add(Dense(units=Neurons_Trial_2, activation='relu'))\n",
        "    classifier.add(Dense(units=3, activation='softmax'))\n",
        "    classifier.compile(optimizer=Optimizer_Trial, loss='categorical_crossentropy', metrics=['accuracy'])\n",
        "            \n",
        "    return classifier\n",
        "\n",
        "\n",
        "Parameter_Trials = {'batch_size':[10,20,30],\n",
        "                    'epochs':[10,20],\n",
        "#                    'Optimizer_Trial':['adam'],\n",
        "                    'Optimizer_Trial':['adam', 'rmsprop'],\n",
        "                    'Neurons_Trial_1': [5,10,30],\n",
        "                    'Neurons_Trial_2': [5,10,30]\n",
        "                   }\n",
        "\n",
        "# Creating the classifier ANN\n",
        "classifierModel = KerasClassifier(make_classification_ann, verbose=0)\n",
        "\n",
        "# encode class values as integers\n",
        "encoder = LabelEncoder()\n",
        "encoder.fit(y)\n",
        "encoded_y = encoder.transform(y)\n",
        "# convert integers to dummy variables (i.e. one hot encoded)\n",
        "dummy_y = np_utils.to_categorical(encoded_y)\n",
        "\n",
        "# Creating the Grid search space\n",
        "# See different scoring methods by using sklearn.metrics.SCORERS.keys()\n",
        "grid_search = GridSearchCV(estimator=classifierModel, param_grid=Parameter_Trials, cv=5)\n",
        "\n",
        "########################################\n",
        "\n",
        "# Measuring how much time it took to find the best params\n",
        "import time\n",
        "StartTime=time.time()\n",
        "\n",
        "# Running Grid Search for different paramenters\n",
        "grid_search.fit(X, dummy_y, verbose=0)\n",
        "\n",
        "EndTime=time.time()\n",
        "print(\"Total Time Taken: \", round((EndTime-StartTime)/60), 'Minutes')\n",
        "\n",
        "########################################\n",
        "\n",
        "# printing the best parameters\n",
        "print('#### Best hyperparamters ####')\n",
        "grid_search.best_params_"
      ],
      "metadata": {
        "colab": {
          "base_uri": "https://localhost:8080/"
        },
        "id": "QmFFhIlOANKq",
        "outputId": "b0e81ecd-590d-46da-eb46-fb9d6ff99e97"
      },
      "execution_count": 21,
      "outputs": [
        {
          "output_type": "stream",
          "name": "stderr",
          "text": [
            "/usr/local/lib/python3.7/dist-packages/ipykernel_launcher.py:23: DeprecationWarning: KerasClassifier is deprecated, use Sci-Keras (https://github.com/adriangb/scikeras) instead.\n"
          ]
        },
        {
          "output_type": "stream",
          "name": "stdout",
          "text": [
            "Total Time Taken:  10 Minutes\n",
            "\n",
            "#### Best hyperparamters ####\n"
          ]
        },
        {
          "output_type": "execute_result",
          "data": {
            "text/plain": [
              "{'Neurons_Trial_1': 5,\n",
              " 'Neurons_Trial_2': 30,\n",
              " 'Optimizer_Trial': 'rmsprop',\n",
              " 'batch_size': 10,\n",
              " 'epochs': 10}"
            ]
          },
          "metadata": {},
          "execution_count": 21
        }
      ]
    },
    {
      "cell_type": "markdown",
      "source": [
        "**Artificial Neural Nets (ANN)**: Fit a regression NN with Balance as response:\n"
      ],
      "metadata": {
        "id": "Om5fcIkwJmcy"
      }
    },
    {
      "cell_type": "code",
      "source": [
        "# Function to generate Deep ANN model \n",
        "def make_regression_ann(Optimizer_Trial, Neurons_Trial_1, Neurons_Trial_2):\n",
        "    \n",
        "    # Creating the classifier ANN model\n",
        "    regressor = Sequential()\n",
        "    regressor.add(Dense(units=Neurons_Trial_1, input_dim=13, activation='relu'))\n",
        "    regressor.add(Dense(units=Neurons_Trial_2, activation='relu'))\n",
        "    regressor.add(Dense(units=1, activation='linear'))\n",
        "    regressor.compile(optimizer=Optimizer_Trial, loss='mean_squared_error', metrics=['mse'])\n",
        "            \n",
        "    return regressor\n",
        "\n",
        "\n",
        "Parameter_Trials = {'batch_size':[10,20,30],\n",
        "                    'epochs':[10,20],\n",
        "                    'Optimizer_Trial':['adam', 'rmsprop'],\n",
        "                    'Neurons_Trial_1': [5,10,30],\n",
        "                    'Neurons_Trial_2': [5,10,30]\n",
        "                   }\n",
        "\n",
        "# Creating the classifier ANN\n",
        "RegressionModel = KerasRegressor(make_regression_ann, verbose=0)\n",
        "\n",
        "# Creating the Grid search space\n",
        "# See different scoring methods by using sklearn.metrics.SCORERS.keys()\n",
        "grid_search_reg = GridSearchCV(estimator=RegressionModel, param_grid=Parameter_Trials, cv=5)\n",
        "\n",
        "########################################\n",
        "\n",
        "# Measuring how much time it took to find the best params\n",
        "import time\n",
        "StartTime=time.time()\n",
        "\n",
        "# Running Grid Search for different paramenters\n",
        "grid_search_reg.fit(X, y, verbose=0)\n",
        "\n",
        "EndTime=time.time()\n",
        "print(\"Total Time Taken: \", round((EndTime-StartTime)/60), 'Minutes')\n",
        "\n",
        "########################################\n",
        "\n",
        "# printing the best parameters\n",
        "print('#### Best hyperparamters ####')\n",
        "grid_search_reg.best_params_"
      ],
      "metadata": {
        "id": "YEogkJzfJpwq",
        "outputId": "66d6abea-0443-465b-8dc3-55417b109e40",
        "colab": {
          "base_uri": "https://localhost:8080/"
        }
      },
      "execution_count": 34,
      "outputs": [
        {
          "metadata": {
            "tags": null
          },
          "name": "stderr",
          "output_type": "stream",
          "text": [
            "/usr/local/lib/python3.7/dist-packages/ipykernel_launcher.py:22: DeprecationWarning: KerasRegressor is deprecated, use Sci-Keras (https://github.com/adriangb/scikeras) instead.\n"
          ]
        },
        {
          "output_type": "stream",
          "name": "stdout",
          "text": [
            "Total Time Taken:  9 Minutes\n",
            "#### Best hyperparamters ####\n"
          ]
        },
        {
          "output_type": "execute_result",
          "data": {
            "text/plain": [
              "{'Neurons_Trial_1': 10,\n",
              " 'Neurons_Trial_2': 30,\n",
              " 'Optimizer_Trial': 'adam',\n",
              " 'batch_size': 10,\n",
              " 'epochs': 20}"
            ]
          },
          "metadata": {},
          "execution_count": 34
        }
      ]
    },
    {
      "cell_type": "markdown",
      "source": [
        "To adjust the decay parameter (shrinkage) with keras, you need to modify the optimizer:"
      ],
      "metadata": {
        "id": "TyPXKpqFNhk2"
      }
    },
    {
      "cell_type": "code",
      "source": [
        "def make_regression_ann(decay_rate, Neurons_Trial_1, Neurons_Trial_2):\n",
        "\n",
        "    # you can also pass different values for momentum & lr (other inputs of SGD) to find their optimal values as well\n",
        "    sgd = SGD(decay=decay_rate, nesterov=False)\n",
        "\n",
        "    # Creating the classifier ANN model\n",
        "    regressor = Sequential()\n",
        "    regressor.add(Dense(units=Neurons_Trial_1, input_dim=13, activation='relu'))\n",
        "    regressor.add(Dense(units=Neurons_Trial_2, activation='relu'))\n",
        "    regressor.add(Dense(units=1, activation='linear'))\n",
        "    regressor.compile(optimizer=sgd, loss='mean_squared_error', metrics=['mse'])\n",
        "            \n",
        "    return regressor\n",
        "\n",
        "# for simplicity, only including the best parameters from the previouse GridSearchCV.\n",
        "# Idealy, you need to repeate the fitting process with all combinations again\n",
        "Parameter_Trials = {'batch_size':[10],\n",
        "                    'epochs':[20],\n",
        "                    'decay_rate':[1,0.01,0.001],\n",
        "                    'Neurons_Trial_1': [10],\n",
        "                    'Neurons_Trial_2': [30]\n",
        "                   }\n",
        "\n",
        "# Creating the classifier ANN\n",
        "RegressionModel = KerasRegressor(make_regression_ann, verbose=0)\n",
        "\n",
        "# Creating the Grid search space\n",
        "# See different scoring methods by using sklearn.metrics.SCORERS.keys()\n",
        "grid_search_reg = GridSearchCV(estimator=RegressionModel, param_grid=Parameter_Trials, cv=5)\n",
        "\n",
        "########################################\n",
        "\n",
        "# Measuring how much time it took to find the best params\n",
        "import time\n",
        "StartTime=time.time()\n",
        "\n",
        "# Running Grid Search for different paramenters\n",
        "grid_search_reg.fit(X, y, verbose=0)\n",
        "\n",
        "EndTime=time.time()\n",
        "print(\"Total Time Taken: \", round((EndTime-StartTime)/60), 'Minutes')\n",
        "\n",
        "########################################\n",
        "\n",
        "# printing the best parameters\n",
        "print('#### Best hyperparamters ####')\n",
        "grid_search_reg.best_params_"
      ],
      "metadata": {
        "id": "J4rnhRWXOEx0",
        "outputId": "ea0fe902-1f33-47bf-d4e4-8c7b741f3c58",
        "colab": {
          "base_uri": "https://localhost:8080/"
        }
      },
      "execution_count": 36,
      "outputs": [
        {
          "output_type": "stream",
          "name": "stderr",
          "text": [
            "/usr/local/lib/python3.7/dist-packages/ipykernel_launcher.py:25: DeprecationWarning: KerasRegressor is deprecated, use Sci-Keras (https://github.com/adriangb/scikeras) instead.\n",
            "/usr/local/lib/python3.7/dist-packages/sklearn/model_selection/_search.py:972: UserWarning: One or more of the test scores are non-finite: [            nan             nan -42071.17363433]\n",
            "  category=UserWarning,\n"
          ]
        },
        {
          "output_type": "stream",
          "name": "stdout",
          "text": [
            "Total Time Taken:  0 Minutes\n",
            "#### Best hyperparamters ####\n"
          ]
        },
        {
          "output_type": "execute_result",
          "data": {
            "text/plain": [
              "{'Neurons_Trial_1': 10,\n",
              " 'Neurons_Trial_2': 30,\n",
              " 'batch_size': 10,\n",
              " 'decay_rate': 0.001,\n",
              " 'epochs': 20}"
            ]
          },
          "metadata": {},
          "execution_count": 36
        }
      ]
    }
  ],
  "metadata": {
    "colab": {
      "collapsed_sections": [],
      "name": "Lecture13_NN.ipynb",
      "provenance": [],
      "authorship_tag": "ABX9TyOFGPuXiAGBnC42E4pZJ+lx",
      "include_colab_link": true
    },
    "kernelspec": {
      "display_name": "Python 3",
      "name": "python3"
    },
    "language_info": {
      "name": "python"
    }
  },
  "nbformat": 4,
  "nbformat_minor": 0
}